{
 "cells": [
  {
   "cell_type": "code",
   "execution_count": 1,
   "metadata": {
    "collapsed": false
   },
   "outputs": [],
   "source": [
    "import tensorflow as tf\n",
    "import numpy as np\n",
    "import cPickle as pickle\n",
    "import h5py\n",
    "import matplotlib.pyplot as plt\n",
    "from solver import CaptioningSolver\n",
    "from model import CaptionGenerator\n",
    "from cs231n.coco_utils import load_coco_data, sample_coco_minibatch, decode_captions\n",
    "from cs231n.image_utils import image_from_url\n",
    "\n",
    "%matplotlib inline\n",
    "plt.rcParams['figure.figsize'] = (10.0, 8.0)  # set default size of plots\n",
    "plt.rcParams['image.interpolation'] = 'nearest'\n",
    "plt.rcParams['image.cmap'] = 'gray'\n",
    "\n",
    "%load_ext autoreload\n",
    "%autoreload 2"
   ]
  },
  {
   "cell_type": "code",
   "execution_count": 2,
   "metadata": {
    "collapsed": false
   },
   "outputs": [
    {
     "name": "stdout",
     "output_type": "stream",
     "text": [
      "image_idxs <type 'numpy.ndarray'> (100,) int32\n",
      "id_to_idx <type 'dict'> 82783\n",
      "features <type 'numpy.ndarray'> (100, 14, 14, 512) float64\n",
      "idx_to_word <type 'dict'> 1259\n",
      "idx_to_id <type 'dict'> 82783\n",
      "image_file_name <type 'list'> 82783\n",
      "captions <type 'numpy.ndarray'> (100, 17) int32\n",
      "word_to_idx <type 'dict'> 1259\n"
     ]
    }
   ],
   "source": [
    "with open('small_data.pkl', 'rb') as f:\n",
    "    small_data = pickle.load(f)\n",
    "\n",
    "for k, v in small_data.iteritems():\n",
    "    if type(v) == np.ndarray:\n",
    "        print k, type(v), v.shape, v.dtype\n",
    "    else:\n",
    "        print k, type(v), len(v)"
   ]
  },
  {
   "cell_type": "code",
   "execution_count": 3,
   "metadata": {
    "collapsed": true
   },
   "outputs": [],
   "source": [
    "small_captions = small_data['captions'] \n",
    "small_data['train_captions'] = small_captions\n",
    "\n",
    "small_features = small_data['features'].reshape(100,196,512)\n",
    "small_features = (small_features - np.mean(small_features)) * 0.01\n",
    "small_data['train_features'] = small_features\n",
    "word_to_idx = small_data['word_to_idx']"
   ]
  },
  {
   "cell_type": "code",
   "execution_count": 4,
   "metadata": {
    "collapsed": false,
    "scrolled": true
   },
   "outputs": [],
   "source": [
    "model = CaptionGenerator(word_to_idx, batch_size= 100, dim_feature=[196, 512], dim_embed=128,\n",
    "                                   dim_hidden=128, n_time_step=16, cell_type='lstm', dtype=tf.float32)"
   ]
  },
  {
   "cell_type": "code",
   "execution_count": 5,
   "metadata": {
    "collapsed": false
   },
   "outputs": [],
   "source": [
    "solver = CaptioningSolver(model, small_data, n_epochs=200, batch_size=100, update_rule='adam',\n",
    "                                      learning_rate=0.004, print_every=10, save_every=10000,\n",
    "                                    save_model_path='./model/', test_model_path='./model/model-200', pretrained_model=None)"
   ]
  },
  {
   "cell_type": "code",
   "execution_count": 6,
   "metadata": {
    "collapsed": false
   },
   "outputs": [
    {
     "data": {
      "text/plain": [
       "[u'<START> a restaurant has modern wooden tables and chairs <END>',\n",
       " u'<START> a long restaurant table with <UNK> <UNK> back chairs <END>',\n",
       " u'<START> a long table with a plant on top of it surrounded with wooden chairs  <END>',\n",
       " u'<START> a long table with a flower <UNK> in the middle for <UNK> <END>',\n",
       " u'<START> a table is <UNK> with wooden chairs with blue <UNK> <END>',\n",
       " u'<START> a man preparing <UNK> in a kitchen covered in frosting <END>',\n",
       " u'<START> a chef is preparing and <UNK> many small pastries <END>',\n",
       " u'<START> a <UNK> prepares various types of baked <UNK> <END>',\n",
       " u'<START> a close up of a person <UNK> a pastry in a container <END>',\n",
       " u'<START> close up of a hand touching various pastries <END>']"
      ]
     },
     "execution_count": 6,
     "metadata": {},
     "output_type": "execute_result"
    }
   ],
   "source": [
    "decode_captions(small_data['train_captions'], small_data['idx_to_word'])[0:10]"
   ]
  },
  {
   "cell_type": "code",
   "execution_count": 7,
   "metadata": {
    "collapsed": false
   },
   "outputs": [
    {
     "name": "stdout",
     "output_type": "stream",
     "text": [
      "n_epochs:  200\n",
      "n_iters_per_epoch:  1\n",
      "batch size:  100\n",
      "n_examples:  100\n",
      "variable name: W_init_h/read:0\n",
      "Train Loss at Epoch 0: 7573.62207\n",
      "Generated Caption: <START> a lid lid lid lid lid lid lid lid lid lid lid lid lid green green\n",
      "Generated Caption: <START> a a a a a a a a a a a a a a a a\n",
      "Generated Caption: <START> a a a a a a a a a a a a a a a a\n",
      "Generated Caption: <START> a a a a a a a a a a a a a a a a\n",
      "Generated Caption: <START> a a a a a a a a a a a a a a a a\n",
      "Generated Caption: <START> a a a a a a a a a a a a a a a a\n",
      "Generated Caption: <START> a a a a a a a a a a a a a a a a\n",
      "Generated Caption: <START> a a a a a a a a a a a a a a a a\n",
      "Generated Caption: <START> a a a a a a a a a a a a a a a a\n",
      "Generated Caption: <START> a a a a a a a a a a a a a a a a\n",
      "Train Loss at Epoch 10: 4281.88965\n",
      "Generated Caption: <START> a a and and and and and and and and and and and and and and\n",
      "Generated Caption: <START> a a a <END>\n",
      "Generated Caption: <START> a a a with with <END>\n",
      "Generated Caption: <START> a a a <UNK> <UNK> <UNK> <UNK> <UNK> <UNK> <UNK> <UNK> <UNK> <UNK> <UNK> <UNK> <UNK>\n",
      "Generated Caption: <START> a a <UNK> <UNK> <UNK> <UNK> <UNK> <UNK> <UNK> <UNK> <UNK> <UNK> <UNK> <UNK> <UNK> <UNK>\n",
      "Generated Caption: <START> a a a kitchen kitchen kitchen kitchen kitchen <END>\n",
      "Generated Caption: <START> a a a <END>\n",
      "Generated Caption: <START> a <UNK> <UNK> <UNK> <UNK> <UNK> <UNK> <UNK> <UNK> <UNK> <UNK> <UNK> <UNK> <UNK> <END>\n",
      "Generated Caption: <START> a a a a a <END>\n",
      "Generated Caption: <START> a a a <END>\n",
      "Train Loss at Epoch 20: 3519.56177\n",
      "Generated Caption: <START> a a a <END>\n",
      "Generated Caption: <START> a a a <UNK> <UNK> <UNK> <END>\n",
      "Generated Caption: <START> a a a with with with with with with with with with with with <END>\n",
      "Generated Caption: <START> a a a a a <UNK> <UNK> <UNK> <UNK> <UNK> <UNK> <UNK> <END>\n",
      "Generated Caption: <START> a a with with with <UNK> <UNK> <UNK> <UNK> <UNK> <END>\n",
      "Generated Caption: <START> a a a in in in in in in in <END>\n",
      "Generated Caption: <START> a a a a <UNK> <UNK> <END>\n",
      "Generated Caption: <START> a <UNK> <UNK> <UNK> <UNK> <UNK> <UNK> <UNK> <UNK> <UNK> <UNK> <UNK> <UNK> <UNK> <UNK> <UNK>\n",
      "Generated Caption: <START> a a a a a a a a a a a a a a a a\n",
      "Generated Caption: <START> a a up up up <END>\n",
      "Train Loss at Epoch 30: 2767.15771\n",
      "Generated Caption: <START> a a modern modern modern <END>\n",
      "Generated Caption: <START> a a table table <UNK> <UNK> <UNK> <END>\n",
      "Generated Caption: <START> a long a with a with with with with a with with a <END>\n",
      "Generated Caption: <START> a a a <UNK> a <UNK> <UNK> <UNK> <UNK> <UNK> <UNK> <UNK> <END>\n",
      "Generated Caption: <START> a table table with with <UNK> <UNK> <UNK> <UNK> <END>\n",
      "Generated Caption: <START> a man in in in in in in in in in in in in in in\n",
      "Generated Caption: <START> a chef a <UNK> <UNK> <UNK> <UNK> <END>\n",
      "Generated Caption: <START> a <UNK> <UNK> <UNK> <UNK> <UNK> <UNK> <UNK> <UNK> <UNK> <UNK> <UNK> <UNK> <UNK> <UNK> <UNK>\n",
      "Generated Caption: <START> a close a a a a a a a a a a a a a a\n",
      "Generated Caption: <START> a up up up up hand <END>\n",
      "Train Loss at Epoch 40: 2098.36792\n",
      "Generated Caption: <START> a restaurant modern modern modern modern <END>\n",
      "Generated Caption: <START> a long table table with <UNK> <UNK> <UNK> <END>\n",
      "Generated Caption: <START> a long with with a with with a with a with with a with <END>\n",
      "Generated Caption: <START> a long table with a <UNK> <UNK> <UNK> a <UNK> <UNK> <UNK> <END>\n",
      "Generated Caption: <START> a table table with with with with <UNK> <UNK> <UNK> <END>\n",
      "Generated Caption: <START> a man preparing in in a in in in a in in in in in in\n",
      "Generated Caption: <START> a chef is is <UNK> <UNK> <UNK> many <END>\n",
      "Generated Caption: <START> a <UNK> <UNK> <UNK> <UNK> <UNK> <UNK> <UNK> <END>\n",
      "Generated Caption: <START> a close up a a pastry a a pastry a a pastry a a a a\n",
      "Generated Caption: <START> a up up a hand hand hand pastries <END>\n",
      "Train Loss at Epoch 50: 1535.50110\n",
      "Generated Caption: <START> a restaurant has modern modern tables tables chairs chairs chairs chairs chairs chairs chairs chairs chairs\n",
      "Generated Caption: <START> a long table table with <UNK> <UNK> <UNK> chairs <END>\n",
      "Generated Caption: <START> a long table with a plant with a with a with with a   <END>\n",
      "Generated Caption: <START> a long table with a flower <UNK> <UNK> a <UNK> <UNK> <UNK> <END>\n",
      "Generated Caption: <START> a table is with with with with <UNK> <UNK> <UNK> <END>\n",
      "Generated Caption: <START> a man preparing in in a in in in a in in in in in in\n",
      "Generated Caption: <START> a chef is preparing and <UNK> many many pastries <END>\n",
      "Generated Caption: <START> a <UNK> <UNK> <UNK> <UNK> <UNK> <UNK> <UNK> <END>\n",
      "Generated Caption: <START> a close up of a person a a container a a container <END>\n",
      "Generated Caption: <START> close up of a hand touching touching pastries <END>\n",
      "Train Loss at Epoch 60: 1076.52454\n",
      "Generated Caption: <START> a restaurant has modern wooden tables and chairs <END>\n",
      "Generated Caption: <START> a long table table with <UNK> <UNK> back chairs <END>\n",
      "Generated Caption: <START> a long table with a plant with top it it surrounded with a chairs  <END>\n",
      "Generated Caption: <START> a long table with a flower <UNK> <UNK> a middle <UNK> <UNK> <END>\n",
      "Generated Caption: <START> a table is with with <UNK> chairs <UNK> <UNK> <UNK> <END>\n",
      "Generated Caption: <START> a man preparing in in a kitchen covered in a <END>\n",
      "Generated Caption: <START> a chef is preparing and <UNK> many many pastries <END>\n",
      "Generated Caption: <START> a <UNK> prepares <UNK> types <UNK> baked <UNK> <END>\n",
      "Generated Caption: <START> a close up of a person <UNK> a pastry in a container <END>\n",
      "Generated Caption: <START> close up of a hand touching touching pastries <END>\n",
      "Train Loss at Epoch 70: 737.43158\n",
      "Generated Caption: <START> a restaurant has modern wooden tables and chairs <END>\n",
      "Generated Caption: <START> a long restaurant table with <UNK> <UNK> back chairs <END>\n",
      "Generated Caption: <START> a long table with a plant on top it it surrounded with wooden chairs  <END>\n",
      "Generated Caption: <START> a long table with a flower <UNK> and a middle for <UNK> <END>\n",
      "Generated Caption: <START> a table is with with <UNK> chairs with <UNK> <UNK> <END>\n",
      "Generated Caption: <START> a man preparing <UNK> in a kitchen covered in frosting <END>\n",
      "Generated Caption: <START> a chef is preparing and <UNK> many pastries pastries <END>\n",
      "Generated Caption: <START> a <UNK> prepares various types baked baked <UNK> <END>\n",
      "Generated Caption: <START> a close up of a person <UNK> a pastry in a container <END>\n",
      "Generated Caption: <START> close up of a hand touching various pastries <END>\n",
      "Train Loss at Epoch 80: 493.14575\n",
      "Generated Caption: <START> a restaurant has modern wooden tables and chairs <END>\n",
      "Generated Caption: <START> a long restaurant table with <UNK> <UNK> back chairs <END>\n",
      "Generated Caption: <START> a long table with a plant on top it it surrounded with wooden chairs  <END>\n",
      "Generated Caption: <START> a long table with a flower <UNK> in a middle for <UNK> <END>\n",
      "Generated Caption: <START> a table is <UNK> with wooden chairs with <UNK> <UNK> <END>\n",
      "Generated Caption: <START> a man preparing <UNK> in a kitchen covered in frosting <END>\n",
      "Generated Caption: <START> a chef is preparing and <UNK> many small pastries <END>\n",
      "Generated Caption: <START> a <UNK> prepares various types of baked <UNK> <END>\n",
      "Generated Caption: <START> a close up of a person <UNK> a pastry in a container <END>\n",
      "Generated Caption: <START> close up of a hand touching various pastries <END>\n",
      "Train Loss at Epoch 90: 333.23425\n",
      "Generated Caption: <START> a restaurant has modern wooden tables and chairs <END>\n",
      "Generated Caption: <START> a long restaurant table with <UNK> <UNK> back chairs <END>\n",
      "Generated Caption: <START> a long table with a plant on top of it surrounded with wooden chairs  <END>\n",
      "Generated Caption: <START> a long table with a flower <UNK> in the middle for <UNK> <END>\n",
      "Generated Caption: <START> a table is <UNK> with wooden chairs with blue <UNK> <END>\n",
      "Generated Caption: <START> a man preparing <UNK> in a kitchen covered in frosting <END>\n",
      "Generated Caption: <START> a chef is preparing and <UNK> many small pastries <END>\n",
      "Generated Caption: <START> a <UNK> prepares various types of baked <UNK> <END>\n",
      "Generated Caption: <START> a close up of a person <UNK> a pastry in a container <END>\n",
      "Generated Caption: <START> close up of a hand touching various pastries <END>\n",
      "Train Loss at Epoch 100: 230.08498\n",
      "Generated Caption: <START> a restaurant has modern wooden tables and chairs <END>\n",
      "Generated Caption: <START> a long restaurant table with <UNK> <UNK> back chairs <END>\n",
      "Generated Caption: <START> a long table with a plant on top of it surrounded with wooden chairs  <END>\n",
      "Generated Caption: <START> a long table with a flower <UNK> in the middle for <UNK> <END>\n",
      "Generated Caption: <START> a table is <UNK> with wooden chairs with blue <UNK> <END>\n",
      "Generated Caption: <START> a man preparing <UNK> in a kitchen covered in frosting <END>\n",
      "Generated Caption: <START> a chef is preparing and <UNK> many small pastries <END>\n",
      "Generated Caption: <START> a <UNK> prepares various types of baked <UNK> <END>\n",
      "Generated Caption: <START> a close up of a person <UNK> a pastry in a container <END>\n",
      "Generated Caption: <START> close up of a hand touching various pastries <END>\n",
      "Train Loss at Epoch 110: 166.01143\n",
      "Generated Caption: <START> a restaurant has modern wooden tables and chairs <END>\n",
      "Generated Caption: <START> a long restaurant table with <UNK> <UNK> back chairs <END>\n",
      "Generated Caption: <START> a long table with a plant on top of it surrounded with wooden chairs  <END>\n",
      "Generated Caption: <START> a long table with a flower <UNK> in the middle for <UNK> <END>\n",
      "Generated Caption: <START> a table is <UNK> with wooden chairs with blue <UNK> <END>\n",
      "Generated Caption: <START> a man preparing <UNK> in a kitchen covered in frosting <END>\n",
      "Generated Caption: <START> a chef is preparing and <UNK> many small pastries <END>\n",
      "Generated Caption: <START> a <UNK> prepares various types of baked <UNK> <END>\n",
      "Generated Caption: <START> a close up of a person <UNK> a pastry in a container <END>\n",
      "Generated Caption: <START> close up of a hand touching various pastries <END>\n",
      "Train Loss at Epoch 120: 125.08067\n",
      "Generated Caption: <START> a restaurant has modern wooden tables and chairs <END>\n",
      "Generated Caption: <START> a long restaurant table with <UNK> <UNK> back chairs <END>\n",
      "Generated Caption: <START> a long table with a plant on top of it surrounded with wooden chairs  <END>\n",
      "Generated Caption: <START> a long table with a flower <UNK> in the middle for <UNK> <END>\n",
      "Generated Caption: <START> a table is <UNK> with wooden chairs with blue <UNK> <END>\n",
      "Generated Caption: <START> a man preparing <UNK> in a kitchen covered in frosting <END>\n",
      "Generated Caption: <START> a chef is preparing and <UNK> many small pastries <END>\n",
      "Generated Caption: <START> a <UNK> prepares various types of baked <UNK> <END>\n",
      "Generated Caption: <START> a close up of a person <UNK> a pastry in a container <END>\n",
      "Generated Caption: <START> close up of a hand touching various pastries <END>\n",
      "Train Loss at Epoch 130: 97.82972\n",
      "Generated Caption: <START> a restaurant has modern wooden tables and chairs <END>\n",
      "Generated Caption: <START> a long restaurant table with <UNK> <UNK> back chairs <END>\n",
      "Generated Caption: <START> a long table with a plant on top of it surrounded with wooden chairs  <END>\n",
      "Generated Caption: <START> a long table with a flower <UNK> in the middle for <UNK> <END>\n",
      "Generated Caption: <START> a table is <UNK> with wooden chairs with blue <UNK> <END>\n",
      "Generated Caption: <START> a man preparing <UNK> in a kitchen covered in frosting <END>\n",
      "Generated Caption: <START> a chef is preparing and <UNK> many small pastries <END>\n",
      "Generated Caption: <START> a <UNK> prepares various types of baked <UNK> <END>\n",
      "Generated Caption: <START> a close up of a person <UNK> a pastry in a container <END>\n",
      "Generated Caption: <START> close up of a hand touching various pastries <END>\n",
      "Train Loss at Epoch 140: 79.08035\n",
      "Generated Caption: <START> a restaurant has modern wooden tables and chairs <END>\n",
      "Generated Caption: <START> a long restaurant table with <UNK> <UNK> back chairs <END>\n",
      "Generated Caption: <START> a long table with a plant on top of it surrounded with wooden chairs  <END>\n",
      "Generated Caption: <START> a long table with a flower <UNK> in the middle for <UNK> <END>\n",
      "Generated Caption: <START> a table is <UNK> with wooden chairs with blue <UNK> <END>\n",
      "Generated Caption: <START> a man preparing <UNK> in a kitchen covered in frosting <END>\n",
      "Generated Caption: <START> a chef is preparing and <UNK> many small pastries <END>\n",
      "Generated Caption: <START> a <UNK> prepares various types of baked <UNK> <END>\n",
      "Generated Caption: <START> a close up of a person <UNK> a pastry in a container <END>\n",
      "Generated Caption: <START> close up of a hand touching various pastries <END>\n",
      "Train Loss at Epoch 150: 65.62203\n",
      "Generated Caption: <START> a restaurant has modern wooden tables and chairs <END>\n",
      "Generated Caption: <START> a long restaurant table with <UNK> <UNK> back chairs <END>\n",
      "Generated Caption: <START> a long table with a plant on top of it surrounded with wooden chairs  <END>\n",
      "Generated Caption: <START> a long table with a flower <UNK> in the middle for <UNK> <END>\n",
      "Generated Caption: <START> a table is <UNK> with wooden chairs with blue <UNK> <END>\n",
      "Generated Caption: <START> a man preparing <UNK> in a kitchen covered in frosting <END>\n",
      "Generated Caption: <START> a chef is preparing and <UNK> many small pastries <END>\n",
      "Generated Caption: <START> a <UNK> prepares various types of baked <UNK> <END>\n",
      "Generated Caption: <START> a close up of a person <UNK> a pastry in a container <END>\n",
      "Generated Caption: <START> close up of a hand touching various pastries <END>\n",
      "Train Loss at Epoch 160: 55.57618\n",
      "Generated Caption: <START> a restaurant has modern wooden tables and chairs <END>\n",
      "Generated Caption: <START> a long restaurant table with <UNK> <UNK> back chairs <END>\n",
      "Generated Caption: <START> a long table with a plant on top of it surrounded with wooden chairs  <END>\n",
      "Generated Caption: <START> a long table with a flower <UNK> in the middle for <UNK> <END>\n",
      "Generated Caption: <START> a table is <UNK> with wooden chairs with blue <UNK> <END>\n",
      "Generated Caption: <START> a man preparing <UNK> in a kitchen covered in frosting <END>\n",
      "Generated Caption: <START> a chef is preparing and <UNK> many small pastries <END>\n",
      "Generated Caption: <START> a <UNK> prepares various types of baked <UNK> <END>\n",
      "Generated Caption: <START> a close up of a person <UNK> a pastry in a container <END>\n",
      "Generated Caption: <START> close up of a hand touching various pastries <END>\n",
      "Train Loss at Epoch 170: 47.94431\n",
      "Generated Caption: <START> a restaurant has modern wooden tables and chairs <END>\n",
      "Generated Caption: <START> a long restaurant table with <UNK> <UNK> back chairs <END>\n",
      "Generated Caption: <START> a long table with a plant on top of it surrounded with wooden chairs  <END>\n",
      "Generated Caption: <START> a long table with a flower <UNK> in the middle for <UNK> <END>\n",
      "Generated Caption: <START> a table is <UNK> with wooden chairs with blue <UNK> <END>\n",
      "Generated Caption: <START> a man preparing <UNK> in a kitchen covered in frosting <END>\n",
      "Generated Caption: <START> a chef is preparing and <UNK> many small pastries <END>\n",
      "Generated Caption: <START> a <UNK> prepares various types of baked <UNK> <END>\n",
      "Generated Caption: <START> a close up of a person <UNK> a pastry in a container <END>\n",
      "Generated Caption: <START> close up of a hand touching various pastries <END>\n",
      "Train Loss at Epoch 180: 41.95646\n",
      "Generated Caption: <START> a restaurant has modern wooden tables and chairs <END>\n",
      "Generated Caption: <START> a long restaurant table with <UNK> <UNK> back chairs <END>\n",
      "Generated Caption: <START> a long table with a plant on top of it surrounded with wooden chairs  <END>\n",
      "Generated Caption: <START> a long table with a flower <UNK> in the middle for <UNK> <END>\n",
      "Generated Caption: <START> a table is <UNK> with wooden chairs with blue <UNK> <END>\n",
      "Generated Caption: <START> a man preparing <UNK> in a kitchen covered in frosting <END>\n",
      "Generated Caption: <START> a chef is preparing and <UNK> many small pastries <END>\n",
      "Generated Caption: <START> a <UNK> prepares various types of baked <UNK> <END>\n",
      "Generated Caption: <START> a close up of a person <UNK> a pastry in a container <END>\n",
      "Generated Caption: <START> close up of a hand touching various pastries <END>\n",
      "Train Loss at Epoch 190: 37.11279\n",
      "Generated Caption: <START> a restaurant has modern wooden tables and chairs <END>\n",
      "Generated Caption: <START> a long restaurant table with <UNK> <UNK> back chairs <END>\n",
      "Generated Caption: <START> a long table with a plant on top of it surrounded with wooden chairs  <END>\n",
      "Generated Caption: <START> a long table with a flower <UNK> in the middle for <UNK> <END>\n",
      "Generated Caption: <START> a table is <UNK> with wooden chairs with blue <UNK> <END>\n",
      "Generated Caption: <START> a man preparing <UNK> in a kitchen covered in frosting <END>\n",
      "Generated Caption: <START> a chef is preparing and <UNK> many small pastries <END>\n",
      "Generated Caption: <START> a <UNK> prepares various types of baked <UNK> <END>\n",
      "Generated Caption: <START> a close up of a person <UNK> a pastry in a container <END>\n",
      "Generated Caption: <START> close up of a hand touching various pastries <END>\n",
      "Sampled Caption: <START> a restaurant has modern wooden tables and chairs <END>\n",
      "Sampled Caption: <START> a long restaurant table with <UNK> <UNK> back chairs <END>\n",
      "Sampled Caption: <START> a long table with a plant on top of it surrounded with wooden chairs  <END>\n",
      "Sampled Caption: <START> a long table with a flower <UNK> in the middle for <UNK> <END>\n",
      "Sampled Caption: <START> a table is <UNK> with wooden chairs with blue <UNK> <END>\n",
      "Sampled Caption: <START> a man preparing <UNK> in a kitchen covered in frosting <END>\n",
      "Sampled Caption: <START> a chef is preparing <UNK> many small pastries <END>\n",
      "Sampled Caption: <START> a <UNK> prepares various types of baked <UNK> <END>\n",
      "Sampled Caption: <START> a close up of a person <UNK> a pastry in a container <END>\n",
      "Sampled Caption: <START> close up of a hand touching various pastries <END>\n"
     ]
    },
    {
     "data": {
      "image/png": "[encoded data removed]",
      "text/plain": [
       "<matplotlib.figure.Figure at 0x7f9cbeb0c210>"
      ]
     },
     "metadata": {},
     "output_type": "display_data"
    }
   ],
   "source": [
    "solver.train()\n",
    "# Plot the training losses\n",
    "plt.plot(solver.loss_history)\n",
    "plt.xlabel('Epoch')\n",
    "plt.ylabel('Loss')\n",
    "plt.title('Training loss history')\n",
    "plt.show()"
   ]
  },
  {
   "cell_type": "code",
   "execution_count": null,
   "metadata": {
    "collapsed": false
   },
   "outputs": [],
   "source": [
    "solver.test()"
   ]
  },
  {
   "cell_type": "code",
   "execution_count": null,
   "metadata": {
    "collapsed": false
   },
   "outputs": [],
   "source": [
    "loss, generated_captions = model.build_model()\n",
    "optimizer = tf.train.AdamOptimizer(0.004).minimize(loss)\n",
    "n_epoch = 2000\n",
    "\n",
    "with tf.Session() as sess:\n",
    "    tf.initialize_all_variables().run()\n",
    "    for e in range(n_epoch):\n",
    "        feed_dict =  {model.features: data['train_features'], model.captions: data['train_captions']}\n",
    "        _, gen_caps, l = sess.run([optimizer, generated_captions, loss], feed_dict)\n",
    "        if e % 10 == 0:\n",
    "            print \"loss at epoch %d: %.5f\" %(e, l)\n",
    "            decoded = decode_captions(gen_caps, model.idx_to_word)\n",
    "            print \"Generated Sentence: %s\" %decoded[0]"
   ]
  }
 ],
 "metadata": {
  "kernelspec": {
   "display_name": "Python [Root]",
   "language": "python",
   "name": "Python [Root]"
  },
  "language_info": {
   "codemirror_mode": {
    "name": "ipython",
    "version": 2
   },
   "file_extension": ".py",
   "mimetype": "text/x-python",
   "name": "python",
   "nbconvert_exporter": "python",
   "pygments_lexer": "ipython2",
   "version": "2.7.12"
  }
 },
 "nbformat": 4,
 "nbformat_minor": 0
}
