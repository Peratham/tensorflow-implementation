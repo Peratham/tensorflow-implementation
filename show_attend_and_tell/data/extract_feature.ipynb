{
 "cells": [
  {
   "cell_type": "code",
   "execution_count": 1,
   "metadata": {
    "collapsed": false
   },
   "outputs": [
    {
     "name": "stdout",
     "output_type": "stream",
     "text": [
      "Packages loaded\n"
     ]
    }
   ],
   "source": [
    "import scipy.io\n",
    "import numpy as np \n",
    "import os \n",
    "import scipy.misc \n",
    "import matplotlib.pyplot as plt \n",
    "import tensorflow as tf\n",
    "import cPickle as pickle\n",
    "import pandas as pd\n",
    "from scipy import ndimage\n",
    "import json\n",
    "import time\n",
    "%matplotlib inline  \n",
    "print (\"Packages loaded\")"
   ]
  },
  {
   "cell_type": "code",
   "execution_count": 2,
   "metadata": {
    "collapsed": true
   },
   "outputs": [],
   "source": [
    "layers = (\n",
    "        'conv1_1', 'relu1_1', 'conv1_2', 'relu1_2', 'pool1',\n",
    "        'conv2_1', 'relu2_1', 'conv2_2', 'relu2_2', 'pool2',\n",
    "        'conv3_1', 'relu3_1', 'conv3_2', 'relu3_2', 'conv3_3',\n",
    "        'relu3_3', 'conv3_4', 'relu3_4', 'pool3',\n",
    "        'conv4_1', 'relu4_1', 'conv4_2', 'relu4_2', 'conv4_3',\n",
    "        'relu4_3', 'conv4_4', 'relu4_4', 'pool4',\n",
    "        'conv5_1', 'relu5_1', 'conv5_2', 'relu5_2', 'conv5_3',\n",
    "        'relu5_3', 'conv5_4', 'relu5_4'\n",
    ")\n",
    "\n",
    "def imread(path):\n",
    "    return scipy.misc.imread(path).astype(np.float32)\n",
    "\n",
    "def _conv_layer(input, weights, bias):\n",
    "    conv = tf.nn.conv2d(input, tf.constant(weights), strides=(1, 1, 1, 1),padding='SAME')\n",
    "    return tf.nn.bias_add(conv, bias)\n",
    "\n",
    "def _pool_layer(input):\n",
    "    return tf.nn.max_pool(input, ksize=(1, 2, 2, 1), strides=(1, 2, 2, 1),padding='VALID')\n",
    "\n",
    "def net(data_path):\n",
    "    # load weights\n",
    "    data = scipy.io.loadmat(data_path)\n",
    "    weights = data['layers'][0]\n",
    "    net = {}\n",
    "    for i, name in enumerate(layers):\n",
    "        kind = name[:4]\n",
    "        if kind == 'conv':\n",
    "            kernels, bias = weights[i][0][0][2][0]\n",
    "            kernels = kernels.transpose(1, 0, 2, 3)\n",
    "            bias = bias.reshape(-1)\n",
    "            net[name] = {}\n",
    "            net[name]['kernels'] = kernels\n",
    "            net[name]['bias'] = bias\n",
    "    return net"
   ]
  },
  {
   "cell_type": "code",
   "execution_count": 3,
   "metadata": {
    "collapsed": false
   },
   "outputs": [],
   "source": [
    "vgg_path = \"./Model/imagenet-vgg-verydeep-19.mat\"\n",
    "vgg = net(vgg_path)\n",
    "image_folder = \"../../../Public/Image_Dataset/train2014_resized/\"\n",
    "image_list=os.listdir(image_folder)"
   ]
  },
  {
   "cell_type": "code",
   "execution_count": 4,
   "metadata": {
    "collapsed": false
   },
   "outputs": [
    {
     "data": {
      "text/plain": [
       "82783"
      ]
     },
     "execution_count": 4,
     "metadata": {},
     "output_type": "execute_result"
    }
   ],
   "source": [
    "len(image_list)"
   ]
  },
  {
   "cell_type": "code",
   "execution_count": 5,
   "metadata": {
    "collapsed": false
   },
   "outputs": [],
   "source": [
    "# get vgg feature maps at conv5_3 (14*14*512)\n",
    "def get_features(vgg, image_list, batch_size=500):\n",
    "    iter_until = len(image_list) + batch_size \n",
    "    feature_vectors = np.ndarray((len(image_list), 14, 14, 512))\n",
    "    config = tf.ConfigProto()\n",
    "    config.gpu_options.per_process_gpu_memory_fraction = 0.8\n",
    "    with tf.Graph().as_default(), tf.Session(config=config) as sess:\n",
    "        for start, end in zip(range(61500, iter_until, batch_size),range(61500 + batch_size, iter_until, batch_size)):\n",
    "            image_batch_file = image_list[start:end]\n",
    "            image_batch = np.array(map(lambda x: ndimage.imread(x, mode='RGB'), image_batch_file)).astype(np.float32)  \n",
    "            current = image_batch\n",
    "            for i, name in enumerate(layers):\n",
    "                kind = name[:4]\n",
    "                if name =='conv5_3':\n",
    "                    print current.get_shape\n",
    "                    start_time = time.time()\n",
    "                    feature_vectors[start:end, :, :, :] = sess.run(current)\n",
    "                    print(\"--- %s seconds ---\" % (time.time() - start_time))\n",
    "                    break\n",
    "                elif kind == 'conv':\n",
    "                    current = _conv_layer(current, vgg[name]['kernels'], vgg[name]['bias'])\n",
    "                elif kind == 'relu':\n",
    "                    current = tf.nn.relu(current)\n",
    "                elif kind == 'pool':\n",
    "                    current = _pool_layer(current)\n",
    "\n",
    "            print str(start+batch_size) + \" finish\"\n",
    "            \n",
    "            # pickle file temporarily\n",
    "            if end % 500 == 0:\n",
    "                with open(\"feature_vectors\" + str(end//500) + \".pickle\", 'wb') as f:\n",
    "                    pickle.dump(feature_vectors[end-500:end], f)\n",
    "                    print(\"pickling success..\")\n",
    "                    f.close()\n",
    "\n",
    "            elif end % 500== 283:\n",
    "                with open(\"feature_vectors\" + str(166) + \".pickle\", 'wb') as f:\n",
    "                    pickle.dump(feature_vectors[82500:end], f)\n",
    "                    print(\"pickling success..\")\n",
    "                    f.close()\n",
    "    return feature_vectors"
   ]
  },
  {
   "cell_type": "code",
   "execution_count": 6,
   "metadata": {
    "collapsed": false
   },
   "outputs": [],
   "source": [
    "annotation_path = '../../../Public/Image_Dataset/train2014_annotations/captions_train2014.json'\n",
    "anno = json.loads(open(annotation_path).read())\n",
    "image_ids=os.listdir(image_folder)\n",
    "image_list = []\n",
    "for i in range(len(image_ids)):\n",
    "    image_list.append(anno['images'][i]['file_name'])\n",
    "image_path = map(lambda x: image_folder + x, list(image_list))"
   ]
  },
  {
   "cell_type": "code",
   "execution_count": 7,
   "metadata": {
    "collapsed": false
   },
   "outputs": [
    {
     "name": "stdout",
     "output_type": "stream",
     "text": [
      "[u'../../../Public/Image_Dataset/train2014_resized/COCO_train2014_000000057870.jpg', u'../../../Public/Image_Dataset/train2014_resized/COCO_train2014_000000384029.jpg', u'../../../Public/Image_Dataset/train2014_resized/COCO_train2014_000000222016.jpg', u'../../../Public/Image_Dataset/train2014_resized/COCO_train2014_000000520950.jpg', u'../../../Public/Image_Dataset/train2014_resized/COCO_train2014_000000069675.jpg', u'../../../Public/Image_Dataset/train2014_resized/COCO_train2014_000000547471.jpg', u'../../../Public/Image_Dataset/train2014_resized/COCO_train2014_000000122688.jpg', u'../../../Public/Image_Dataset/train2014_resized/COCO_train2014_000000392136.jpg', u'../../../Public/Image_Dataset/train2014_resized/COCO_train2014_000000398494.jpg', u'../../../Public/Image_Dataset/train2014_resized/COCO_train2014_000000090570.jpg']\n"
     ]
    }
   ],
   "source": [
    "print image_path[0:10]"
   ]
  },
  {
   "cell_type": "code",
   "execution_count": 8,
   "metadata": {
    "collapsed": false
   },
   "outputs": [
    {
     "data": {
      "text/plain": [
       "82783"
      ]
     },
     "execution_count": 8,
     "metadata": {},
     "output_type": "execute_result"
    }
   ],
   "source": [
    "len(image_path)"
   ]
  },
  {
   "cell_type": "code",
   "execution_count": 9,
   "metadata": {
    "collapsed": false,
    "scrolled": false
   },
   "outputs": [
    {
     "name": "stdout",
     "output_type": "stream",
     "text": [
      "<bound method Tensor.get_shape of <tf.Tensor 'Relu_13:0' shape=(500, 14, 14, 512) dtype=float32>>\n",
      "--- 101.355960846 seconds ---\n",
      "62000 finish\n",
      "pickling success..\n",
      "<bound method Tensor.get_shape of <tf.Tensor 'Relu_27:0' shape=(500, 14, 14, 512) dtype=float32>>\n",
      "--- 91.0714039803 seconds ---\n",
      "62500 finish\n",
      "pickling success..\n",
      "<bound method Tensor.get_shape of <tf.Tensor 'Relu_41:0' shape=(500, 14, 14, 512) dtype=float32>>\n",
      "--- 93.2528018951 seconds ---\n",
      "63000 finish\n",
      "pickling success..\n",
      "<bound method Tensor.get_shape of <tf.Tensor 'Relu_55:0' shape=(500, 14, 14, 512) dtype=float32>>\n",
      "--- 87.9303359985 seconds ---\n",
      "63500 finish\n",
      "pickling success..\n",
      "<bound method Tensor.get_shape of <tf.Tensor 'Relu_69:0' shape=(500, 14, 14, 512) dtype=float32>>\n",
      "--- 89.1847009659 seconds ---\n",
      "64000 finish\n",
      "pickling success..\n",
      "<bound method Tensor.get_shape of <tf.Tensor 'Relu_83:0' shape=(500, 14, 14, 512) dtype=float32>>\n",
      "--- 88.6628570557 seconds ---\n",
      "64500 finish\n",
      "pickling success..\n",
      "<bound method Tensor.get_shape of <tf.Tensor 'Relu_97:0' shape=(500, 14, 14, 512) dtype=float32>>\n",
      "--- 93.9891409874 seconds ---\n",
      "65000 finish\n",
      "pickling success..\n",
      "<bound method Tensor.get_shape of <tf.Tensor 'Relu_111:0' shape=(500, 14, 14, 512) dtype=float32>>\n",
      "--- 92.841285944 seconds ---\n",
      "65500 finish\n",
      "pickling success..\n",
      "<bound method Tensor.get_shape of <tf.Tensor 'Relu_125:0' shape=(500, 14, 14, 512) dtype=float32>>\n",
      "--- 89.0360050201 seconds ---\n",
      "66000 finish\n",
      "pickling success..\n",
      "<bound method Tensor.get_shape of <tf.Tensor 'Relu_139:0' shape=(500, 14, 14, 512) dtype=float32>>\n",
      "--- 93.392827034 seconds ---\n",
      "66500 finish\n",
      "pickling success..\n",
      "<bound method Tensor.get_shape of <tf.Tensor 'Relu_153:0' shape=(500, 14, 14, 512) dtype=float32>>\n",
      "--- 92.8598589897 seconds ---\n",
      "67000 finish\n",
      "pickling success..\n",
      "<bound method Tensor.get_shape of <tf.Tensor 'Relu_167:0' shape=(500, 14, 14, 512) dtype=float32>>\n",
      "--- 90.8676431179 seconds ---\n",
      "67500 finish\n",
      "pickling success..\n",
      "<bound method Tensor.get_shape of <tf.Tensor 'Relu_181:0' shape=(500, 14, 14, 512) dtype=float32>>\n",
      "--- 92.5950109959 seconds ---\n",
      "68000 finish\n",
      "pickling success..\n",
      "<bound method Tensor.get_shape of <tf.Tensor 'Relu_195:0' shape=(500, 14, 14, 512) dtype=float32>>\n",
      "--- 89.278316021 seconds ---\n",
      "68500 finish\n",
      "pickling success..\n",
      "<bound method Tensor.get_shape of <tf.Tensor 'Relu_209:0' shape=(500, 14, 14, 512) dtype=float32>>\n",
      "--- 89.2139399052 seconds ---\n",
      "69000 finish\n",
      "pickling success..\n",
      "<bound method Tensor.get_shape of <tf.Tensor 'Relu_223:0' shape=(500, 14, 14, 512) dtype=float32>>\n",
      "--- 91.8586678505 seconds ---\n",
      "69500 finish\n",
      "pickling success..\n",
      "<bound method Tensor.get_shape of <tf.Tensor 'Relu_237:0' shape=(500, 14, 14, 512) dtype=float32>>\n",
      "--- 88.7353861332 seconds ---\n",
      "70000 finish\n",
      "pickling success..\n",
      "<bound method Tensor.get_shape of <tf.Tensor 'Relu_251:0' shape=(500, 14, 14, 512) dtype=float32>>\n",
      "--- 100.883605003 seconds ---\n",
      "70500 finish\n",
      "pickling success..\n",
      "<bound method Tensor.get_shape of <tf.Tensor 'Relu_265:0' shape=(500, 14, 14, 512) dtype=float32>>\n",
      "--- 99.3983719349 seconds ---\n",
      "71000 finish\n",
      "pickling success..\n",
      "<bound method Tensor.get_shape of <tf.Tensor 'Relu_279:0' shape=(500, 14, 14, 512) dtype=float32>>\n",
      "--- 116.996196985 seconds ---\n",
      "71500 finish\n",
      "pickling success..\n",
      "<bound method Tensor.get_shape of <tf.Tensor 'Relu_293:0' shape=(500, 14, 14, 512) dtype=float32>>\n",
      "--- 96.411288023 seconds ---\n",
      "72000 finish\n",
      "pickling success..\n",
      "<bound method Tensor.get_shape of <tf.Tensor 'Relu_307:0' shape=(500, 14, 14, 512) dtype=float32>>\n",
      "--- 119.951977015 seconds ---\n",
      "72500 finish\n",
      "pickling success..\n",
      "<bound method Tensor.get_shape of <tf.Tensor 'Relu_321:0' shape=(500, 14, 14, 512) dtype=float32>>\n",
      "--- 122.685199022 seconds ---\n",
      "73000 finish\n",
      "pickling success..\n",
      "<bound method Tensor.get_shape of <tf.Tensor 'Relu_335:0' shape=(500, 14, 14, 512) dtype=float32>>\n",
      "--- 132.716826916 seconds ---\n",
      "73500 finish\n",
      "pickling success..\n",
      "<bound method Tensor.get_shape of <tf.Tensor 'Relu_349:0' shape=(500, 14, 14, 512) dtype=float32>>\n",
      "--- 90.448143959 seconds ---\n",
      "74000 finish\n",
      "pickling success..\n",
      "<bound method Tensor.get_shape of <tf.Tensor 'Relu_363:0' shape=(500, 14, 14, 512) dtype=float32>>\n",
      "--- 90.7326989174 seconds ---\n",
      "74500 finish\n",
      "pickling success..\n",
      "<bound method Tensor.get_shape of <tf.Tensor 'Relu_377:0' shape=(500, 14, 14, 512) dtype=float32>>\n",
      "--- 87.7321529388 seconds ---\n",
      "75000 finish\n",
      "pickling success..\n",
      "<bound method Tensor.get_shape of <tf.Tensor 'Relu_391:0' shape=(500, 14, 14, 512) dtype=float32>>\n",
      "--- 94.0003170967 seconds ---\n",
      "75500 finish\n",
      "pickling success..\n",
      "<bound method Tensor.get_shape of <tf.Tensor 'Relu_405:0' shape=(500, 14, 14, 512) dtype=float32>>\n",
      "--- 91.5471138954 seconds ---\n",
      "76000 finish\n",
      "pickling success..\n",
      "<bound method Tensor.get_shape of <tf.Tensor 'Relu_419:0' shape=(500, 14, 14, 512) dtype=float32>>\n",
      "--- 92.7871510983 seconds ---\n",
      "76500 finish\n",
      "pickling success..\n",
      "<bound method Tensor.get_shape of <tf.Tensor 'Relu_433:0' shape=(500, 14, 14, 512) dtype=float32>>\n",
      "--- 88.5520880222 seconds ---\n",
      "77000 finish\n",
      "pickling success..\n",
      "<bound method Tensor.get_shape of <tf.Tensor 'Relu_447:0' shape=(500, 14, 14, 512) dtype=float32>>\n",
      "--- 87.3240129948 seconds ---\n",
      "77500 finish\n",
      "pickling success..\n",
      "<bound method Tensor.get_shape of <tf.Tensor 'Relu_461:0' shape=(500, 14, 14, 512) dtype=float32>>\n",
      "--- 108.057896137 seconds ---\n",
      "78000 finish\n",
      "pickling success..\n",
      "<bound method Tensor.get_shape of <tf.Tensor 'Relu_475:0' shape=(500, 14, 14, 512) dtype=float32>>\n",
      "--- 90.8310759068 seconds ---\n",
      "78500 finish\n",
      "pickling success..\n",
      "<bound method Tensor.get_shape of <tf.Tensor 'Relu_489:0' shape=(500, 14, 14, 512) dtype=float32>>\n",
      "--- 91.0892839432 seconds ---\n",
      "79000 finish\n",
      "pickling success..\n",
      "<bound method Tensor.get_shape of <tf.Tensor 'Relu_503:0' shape=(500, 14, 14, 512) dtype=float32>>\n",
      "--- 127.74695015 seconds ---\n",
      "79500 finish\n",
      "pickling success..\n",
      "<bound method Tensor.get_shape of <tf.Tensor 'Relu_517:0' shape=(500, 14, 14, 512) dtype=float32>>\n",
      "--- 95.6459491253 seconds ---\n",
      "80000 finish\n",
      "pickling success..\n",
      "<bound method Tensor.get_shape of <tf.Tensor 'Relu_531:0' shape=(500, 14, 14, 512) dtype=float32>>\n",
      "--- 143.738857985 seconds ---\n",
      "80500 finish\n",
      "pickling success..\n",
      "<bound method Tensor.get_shape of <tf.Tensor 'Relu_545:0' shape=(500, 14, 14, 512) dtype=float32>>\n",
      "--- 145.655094147 seconds ---\n",
      "81000 finish\n",
      "pickling success..\n",
      "<bound method Tensor.get_shape of <tf.Tensor 'Relu_559:0' shape=(500, 14, 14, 512) dtype=float32>>\n",
      "--- 173.849530935 seconds ---\n",
      "81500 finish\n",
      "pickling success..\n",
      "<bound method Tensor.get_shape of <tf.Tensor 'Relu_573:0' shape=(500, 14, 14, 512) dtype=float32>>\n",
      "--- 158.944075108 seconds ---\n",
      "82000 finish\n",
      "pickling success..\n",
      "<bound method Tensor.get_shape of <tf.Tensor 'Relu_587:0' shape=(500, 14, 14, 512) dtype=float32>>\n",
      "--- 145.92219305 seconds ---\n",
      "82500 finish\n",
      "pickling success..\n",
      "<bound method Tensor.get_shape of <tf.Tensor 'Relu_601:0' shape=(283, 14, 14, 512) dtype=float32>>\n",
      "--- 101.818783998 seconds ---\n",
      "83000 finish\n",
      "pickling success..\n"
     ]
    }
   ],
   "source": [
    "all_feats = get_features(vgg, image_path)"
   ]
  }
 ],
 "metadata": {
  "kernelspec": {
   "display_name": "Python [Root]",
   "language": "python",
   "name": "Python [Root]"
  },
  "language_info": {
   "codemirror_mode": {
    "name": "ipython",
    "version": 2
   },
   "file_extension": ".py",
   "mimetype": "text/x-python",
   "name": "python",
   "nbconvert_exporter": "python",
   "pygments_lexer": "ipython2",
   "version": "2.7.12"
  }
 },
 "nbformat": 4,
 "nbformat_minor": 0
}
