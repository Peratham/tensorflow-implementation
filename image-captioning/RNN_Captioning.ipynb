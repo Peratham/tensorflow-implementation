{
 "cells": [
  {
   "cell_type": "code",
   "execution_count": 1,
   "metadata": {
    "collapsed": false
   },
   "outputs": [],
   "source": [
    "import tensorflow as tf\n",
    "import numpy as np\n",
    "from rnn import ImageCaptioning\n",
    "from cs231n.coco_utils import load_coco_data, sample_coco_minibatch, decode_captions\n",
    "from cs231n.image_utils import image_from_url\n",
    "\n",
    "%load_ext autoreload\n",
    "%autoreload 2"
   ]
  },
  {
   "cell_type": "code",
   "execution_count": 2,
   "metadata": {
    "collapsed": false
   },
   "outputs": [
    {
     "name": "stdout",
     "output_type": "stream",
     "text": [
      "idx_to_word <type 'list'> 1004\n",
      "train_captions <type 'numpy.ndarray'> (400135, 17) int32\n",
      "val_captions <type 'numpy.ndarray'> (195954, 17) int32\n",
      "train_image_idxs <type 'numpy.ndarray'> (400135,) int32\n",
      "val_features <type 'numpy.ndarray'> (40504, 512) float32\n",
      "val_image_idxs <type 'numpy.ndarray'> (195954,) int32\n",
      "train_features <type 'numpy.ndarray'> (82783, 512) float32\n",
      "train_urls <type 'numpy.ndarray'> (82783,) |S63\n",
      "val_urls <type 'numpy.ndarray'> (40504,) |S63\n",
      "word_to_idx <type 'dict'> 1004\n"
     ]
    }
   ],
   "source": [
    "data = load_coco_data(pca_features=True)\n",
    "\n",
    "# Print out all the keys and values from the data dictionary\n",
    "for k, v in data.iteritems():\n",
    "  if type(v) == np.ndarray:\n",
    "    print k, type(v), v.shape, v.dtype\n",
    "  else:\n",
    "    print k, type(v), len(v)"
   ]
  },
  {
   "cell_type": "code",
   "execution_count": 3,
   "metadata": {
    "collapsed": true
   },
   "outputs": [],
   "source": [
    "word_to_idx = data['word_to_idx']\n",
    "features = data['train_features'][0:100]\n",
    "captions = data['train_captions'][0:100]\n",
    "train_urls = data['train_urls'][0:100]"
   ]
  },
  {
   "cell_type": "code",
   "execution_count": 6,
   "metadata": {
    "collapsed": false
   },
   "outputs": [],
   "source": [
    "image_captioning = ImageCaptioning(word_to_idx, batch_size= 100, dim_feature=512, dim_embed=128,\n",
    "                                   dim_hidden=128, n_time_step=16, dtype=tf.float32)\n",
    "\n",
    "logits, loss = image_captioning.build_model(features, captions)"
   ]
  },
  {
   "cell_type": "code",
   "execution_count": 7,
   "metadata": {
    "collapsed": false
   },
   "outputs": [],
   "source": [
    "optimizer = tf.train.AdamOptimizer(0.03).minimize(loss)"
   ]
  },
  {
   "cell_type": "code",
   "execution_count": 16,
   "metadata": {
    "collapsed": false
   },
   "outputs": [],
   "source": [
    "idx_to_word = {i: w for w, i in word_to_idx.iteritems()}"
   ]
  },
  {
   "cell_type": "code",
   "execution_count": 17,
   "metadata": {
    "collapsed": false
   },
   "outputs": [],
   "source": [
    "start_char = idx_to_word[captions[0,0]]"
   ]
  },
  {
   "cell_type": "code",
   "execution_count": 20,
   "metadata": {
    "collapsed": false
   },
   "outputs": [
    {
     "data": {
      "text/plain": [
       "u'<START>'"
      ]
     },
     "execution_count": 20,
     "metadata": {},
     "output_type": "execute_result"
    }
   ],
   "source": [
    "start_char"
   ]
  },
  {
   "cell_type": "code",
   "execution_count": 26,
   "metadata": {
    "collapsed": false
   },
   "outputs": [
    {
     "name": "stdout",
     "output_type": "stream",
     "text": [
      "loss at epoch 0: 7580.907227\n",
      "generated sentence: <START>talking very restroom <END> stainless decorated table well <END> topped vanity cellphone at sinks for streets \n",
      "loss at epoch 1: 6508.325195\n",
      "loss at epoch 2: 4715.730469\n",
      "loss at epoch 3: 4411.828125\n",
      "loss at epoch 4: 4408.219727\n",
      "loss at epoch 5: 3480.742676\n",
      "loss at epoch 6: 3162.100342\n",
      "loss at epoch 7: 2884.531982\n",
      "loss at epoch 8: 2408.105713\n",
      "loss at epoch 9: 2086.409668\n",
      "loss at epoch 10: 1728.721558\n",
      "generated sentence: <START>a very clean and well <UNK> empty bathroom <END> with and a appliances and in laying \n",
      "loss at epoch 11: 1423.850342\n",
      "loss at epoch 12: 1198.077515\n",
      "loss at epoch 13: 1000.056396\n",
      "loss at epoch 14: 826.243469\n",
      "loss at epoch 15: 677.567322\n",
      "loss at epoch 16: 548.780212\n",
      "loss at epoch 17: 440.776978\n",
      "loss at epoch 18: 356.138550\n",
      "loss at epoch 19: 285.039642\n",
      "loss at epoch 20: 227.286255\n",
      "generated sentence: <START>a very clean and well decorated empty bathroom <END> with and a standing and <UNK> an \n",
      "loss at epoch 21: 183.287277\n",
      "loss at epoch 22: 148.136658\n",
      "loss at epoch 23: 122.922806\n",
      "loss at epoch 24: 100.447006\n",
      "loss at epoch 25: 82.277222\n",
      "loss at epoch 26: 66.610367\n",
      "loss at epoch 27: 56.012459\n",
      "loss at epoch 28: 47.518093\n",
      "loss at epoch 29: 41.531673\n",
      "loss at epoch 30: 34.762608\n",
      "generated sentence: <START>a very clean and well decorated empty bathroom <END> with on a <END> with as <END> \n",
      "loss at epoch 31: 31.043104\n",
      "loss at epoch 32: 27.490589\n",
      "loss at epoch 33: 24.768723\n",
      "loss at epoch 34: 22.279768\n",
      "loss at epoch 35: 20.146688\n",
      "loss at epoch 36: 18.106760\n",
      "loss at epoch 37: 16.893951\n",
      "loss at epoch 38: 15.110218\n",
      "loss at epoch 39: 13.859111\n",
      "loss at epoch 40: 12.867573\n",
      "generated sentence: <START>a very clean and well decorated empty bathroom <END> with on a <END> and as <END> \n",
      "loss at epoch 41: 11.597416\n",
      "loss at epoch 42: 10.837909\n",
      "loss at epoch 43: 10.124207\n",
      "loss at epoch 44: 9.341080\n",
      "loss at epoch 45: 8.768282\n",
      "loss at epoch 46: 8.262969\n",
      "loss at epoch 47: 7.656908\n",
      "loss at epoch 48: 7.111390\n",
      "loss at epoch 49: 6.696462\n",
      "loss at epoch 50: 6.322456\n",
      "generated sentence: <START>a very clean and well decorated empty bathroom <END> with on a <END> and as <END> \n",
      "loss at epoch 51: 5.925940\n",
      "loss at epoch 52: 5.672951\n",
      "loss at epoch 53: 5.361384\n",
      "loss at epoch 54: 5.058572\n",
      "loss at epoch 55: 4.782078\n",
      "loss at epoch 56: 4.521862\n",
      "loss at epoch 57: 4.276229\n",
      "loss at epoch 58: 4.053595\n",
      "loss at epoch 59: 3.841323\n",
      "loss at epoch 60: 3.644395\n",
      "generated sentence: <START>a very clean and well decorated empty bathroom <END> with in a <END> with a standing \n",
      "loss at epoch 61: 3.462252\n",
      "loss at epoch 62: 3.294283\n",
      "loss at epoch 63: 3.140043\n",
      "loss at epoch 64: 2.998629\n",
      "loss at epoch 65: 2.869607\n",
      "loss at epoch 66: 2.750125\n",
      "loss at epoch 67: 2.637435\n",
      "loss at epoch 68: 2.536344\n",
      "loss at epoch 69: 2.443397\n",
      "loss at epoch 70: 2.356444\n",
      "generated sentence: <START>a very clean and well decorated empty bathroom <END> with in a <END> with a <END> \n",
      "loss at epoch 71: 2.277467\n",
      "loss at epoch 72: 2.205931\n",
      "loss at epoch 73: 2.140173\n",
      "loss at epoch 74: 2.078743\n",
      "loss at epoch 75: 2.021569\n",
      "loss at epoch 76: 1.969006\n",
      "loss at epoch 77: 1.920883\n",
      "loss at epoch 78: 1.875765\n",
      "loss at epoch 79: 1.834080\n",
      "loss at epoch 80: 1.795013\n",
      "generated sentence: <START>a very clean and well decorated empty bathroom <END> with in a <END> with a <END> \n",
      "loss at epoch 81: 1.757781\n",
      "loss at epoch 82: 1.722154\n",
      "loss at epoch 83: 1.688550\n",
      "loss at epoch 84: 1.657527\n",
      "loss at epoch 85: 1.628039\n",
      "loss at epoch 86: 1.599828\n",
      "loss at epoch 87: 1.572783\n",
      "loss at epoch 88: 1.547064\n",
      "loss at epoch 89: 1.521556\n",
      "loss at epoch 90: 1.488011\n",
      "generated sentence: <START>a very clean and well decorated empty bathroom <END> with in a <END> with a <END> \n",
      "loss at epoch 91: 1.444358\n",
      "loss at epoch 92: 1.424193\n",
      "loss at epoch 93: 1.404890\n",
      "loss at epoch 94: 1.386440\n",
      "loss at epoch 95: 1.368725\n",
      "loss at epoch 96: 1.351820\n",
      "loss at epoch 97: 1.335686\n",
      "loss at epoch 98: 1.319934\n",
      "loss at epoch 99: 1.304373\n",
      "loss at epoch 100: 1.289171\n",
      "generated sentence: <START>a very clean and well decorated empty bathroom <END> with in a <END> with a <END> \n",
      "loss at epoch 101: 1.274611\n",
      "loss at epoch 102: 1.260612\n",
      "loss at epoch 103: 1.246526\n",
      "loss at epoch 104: 1.230170\n",
      "loss at epoch 105: 1.200104\n",
      "loss at epoch 106: 1.185500\n",
      "loss at epoch 107: 1.173430\n",
      "loss at epoch 108: 1.161601\n",
      "loss at epoch 109: 1.149983\n",
      "loss at epoch 110: 1.138638\n",
      "generated sentence: <START>a very clean and well decorated empty bathroom <END> with in a <END> with a <END> \n",
      "loss at epoch 111: 1.127547\n",
      "loss at epoch 112: 1.116650\n",
      "loss at epoch 113: 1.105888\n",
      "loss at epoch 114: 1.095183\n",
      "loss at epoch 115: 1.084442\n",
      "loss at epoch 116: 1.074327\n",
      "loss at epoch 117: 1.064750\n",
      "loss at epoch 118: 1.055251\n",
      "loss at epoch 119: 1.045804\n",
      "loss at epoch 120: 1.036330\n",
      "generated sentence: <START>a very clean and well decorated empty bathroom <END> with in <END> <END> with a <END> \n",
      "loss at epoch 121: 1.026596\n",
      "loss at epoch 122: 1.016597\n",
      "loss at epoch 123: 1.006177\n",
      "loss at epoch 124: 0.991530\n",
      "loss at epoch 125: 0.981103\n",
      "loss at epoch 126: 0.972810\n",
      "loss at epoch 127: 0.964540\n",
      "loss at epoch 128: 0.956308\n",
      "loss at epoch 129: 0.948127\n",
      "loss at epoch 130: 0.940070\n",
      "generated sentence: <START>a very clean and well decorated empty bathroom <END> with in <END> <END> with a <END> \n",
      "loss at epoch 131: 0.932417\n",
      "loss at epoch 132: 0.925049\n",
      "loss at epoch 133: 0.917458\n",
      "loss at epoch 134: 0.909646\n",
      "loss at epoch 135: 0.901959\n",
      "loss at epoch 136: 0.894114\n",
      "loss at epoch 137: 0.885669\n",
      "loss at epoch 138: 0.876714\n",
      "loss at epoch 139: 0.870659\n",
      "loss at epoch 140: 0.864568\n",
      "generated sentence: <START>a very clean and well decorated empty bathroom <END> with in <END> <END> with a <END> \n",
      "loss at epoch 141: 0.857840\n",
      "loss at epoch 142: 0.850934\n",
      "loss at epoch 143: 0.844150\n",
      "loss at epoch 144: 0.837968\n",
      "loss at epoch 145: 0.831237\n",
      "loss at epoch 146: 0.824735\n",
      "loss at epoch 147: 0.818630\n",
      "loss at epoch 148: 0.812544\n",
      "loss at epoch 149: 0.806401\n",
      "loss at epoch 150: 0.800291\n",
      "generated sentence: <START>a very clean and well decorated empty bathroom <END> with in <END> <END> with a <END> \n",
      "loss at epoch 151: 0.794630\n",
      "loss at epoch 152: 0.789039\n",
      "loss at epoch 153: 0.783212\n",
      "loss at epoch 154: 0.777670\n",
      "loss at epoch 155: 0.772183\n",
      "loss at epoch 156: 0.766629\n",
      "loss at epoch 157: 0.761235\n",
      "loss at epoch 158: 0.756089\n",
      "loss at epoch 159: 0.750849\n",
      "loss at epoch 160: 0.745705\n",
      "generated sentence: <START>a very clean and well decorated empty bathroom <END> with in <END> <END> with a <END> \n",
      "loss at epoch 161: 0.740719\n",
      "loss at epoch 162: 0.735708\n",
      "loss at epoch 163: 0.730714\n",
      "loss at epoch 164: 0.725868\n",
      "loss at epoch 165: 0.721045\n",
      "loss at epoch 166: 0.716250\n",
      "loss at epoch 167: 0.711584\n",
      "loss at epoch 168: 0.706982\n",
      "loss at epoch 169: 0.702373\n",
      "loss at epoch 170: 0.697830\n",
      "generated sentence: <START>a very clean and well decorated empty bathroom <END> with in <END> <END> with a <END> \n",
      "loss at epoch 171: 0.693375\n",
      "loss at epoch 172: 0.688956\n",
      "loss at epoch 173: 0.684577\n",
      "loss at epoch 174: 0.680261\n",
      "loss at epoch 175: 0.676004\n",
      "loss at epoch 176: 0.671779\n",
      "loss at epoch 177: 0.667589\n",
      "loss at epoch 178: 0.663463\n",
      "loss at epoch 179: 0.659386\n",
      "loss at epoch 180: 0.655346\n",
      "generated sentence: <START>a very clean and well decorated empty bathroom <END> with in <END> <END> with a <END> \n",
      "loss at epoch 181: 0.651354\n",
      "loss at epoch 182: 0.647399\n",
      "loss at epoch 183: 0.643492\n",
      "loss at epoch 184: 0.639632\n",
      "loss at epoch 185: 0.635810\n",
      "loss at epoch 186: 0.632016\n",
      "loss at epoch 187: 0.628286\n",
      "loss at epoch 188: 0.624582\n",
      "loss at epoch 189: 0.620919\n",
      "loss at epoch 190: 0.617292\n",
      "generated sentence: <START>a very clean and well decorated empty bathroom <END> with in <END> <END> with a <END> \n",
      "loss at epoch 191: 0.613701\n",
      "loss at epoch 192: 0.610141\n",
      "loss at epoch 193: 0.606615\n",
      "loss at epoch 194: 0.603119\n",
      "loss at epoch 195: 0.599652\n",
      "loss at epoch 196: 0.596231\n",
      "loss at epoch 197: 0.592837\n",
      "loss at epoch 198: 0.589476\n",
      "loss at epoch 199: 0.586151\n"
     ]
    }
   ],
   "source": [
    "n_epochs = 200\n",
    "with tf.Session() as sess:\n",
    "    tf.initialize_all_variables().run()\n",
    "\n",
    "    for e in range(n_epochs):\n",
    "        _, l = sess.run([optimizer, loss])\n",
    "        print \"loss at epoch %d: %f\" %(e, l)  \n",
    "        if e % 10 == 0:\n",
    "            score = sess.run(logits)  # (N, T, V)\n",
    "            idxs = np.argmax(score, 2)  # (N, T)\n",
    "            idx = idxs[0]  # (T)\n",
    "            sentence = [idx_to_word[i]+\" \" for i in idx]\n",
    "            print \"generated sentence: %s\" %(start_char+''.join(sentence))"
   ]
  }
 ],
 "metadata": {
  "kernelspec": {
   "display_name": "Python [Root]",
   "language": "python",
   "name": "Python [Root]"
  },
  "language_info": {
   "codemirror_mode": {
    "name": "ipython",
    "version": 2
   },
   "file_extension": ".py",
   "mimetype": "text/x-python",
   "name": "python",
   "nbconvert_exporter": "python",
   "pygments_lexer": "ipython2",
   "version": "2.7.12"
  }
 },
 "nbformat": 4,
 "nbformat_minor": 0
}
